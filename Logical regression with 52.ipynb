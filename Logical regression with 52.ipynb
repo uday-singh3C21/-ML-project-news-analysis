{
 "cells": [
  {
   "cell_type": "code",
   "execution_count": 2,
   "id": "44dd2e1d-f084-4db4-b238-4e72d8f34179",
   "metadata": {},
   "outputs": [
    {
     "name": "stdout",
     "output_type": "stream",
     "text": [
      "\n",
      " Model Accuracy: 0.5279297503563054\n",
      "\n",
      " Classification Report:\n",
      "               precision    recall  f1-score   support\n",
      "\n",
      "           0       0.52      0.46      0.49     10636\n",
      "           1       0.53      0.60      0.56     11115\n",
      "\n",
      "    accuracy                           0.53     21751\n",
      "   macro avg       0.53      0.53      0.52     21751\n",
      "weighted avg       0.53      0.53      0.53     21751\n",
      "\n",
      "\n",
      " Confusion Matrix:\n",
      " [[4858 5778]\n",
      " [4490 6625]]\n"
     ]
    },
    {
     "data": {
      "image/png": "[encoded data removed]",
      "text/plain": [
       "<Figure size 500x500 with 2 Axes>"
      ]
     },
     "metadata": {},
     "output_type": "display_data"
    }
   ],
   "source": [
    "import pandas as pd\n",
    "import numpy as np\n",
    "import re\n",
    "import string\n",
    "import matplotlib.pyplot as plt\n",
    "from sklearn.model_selection import train_test_split\n",
    "from sklearn.feature_extraction.text import TfidfVectorizer\n",
    "from sklearn.linear_model import LogisticRegression\n",
    "from sklearn.metrics import accuracy_score, classification_report, confusion_matrix\n",
    "\n",
    "#  Step 1: Load Data\n",
    "file_path = \"/Users/udaysinghshekhawat/Documents/news sentimental modle/Sentiment_Stock_data.csv\"\n",
    "df = pd.read_csv(file_path)\n",
    "\n",
    "#  Step 2: Preprocess Text\n",
    "def clean_text(text):\n",
    "    text = text.lower()  # Lowercase text\n",
    "    text = re.sub(r'\\d+', '', text)  # Remove numbers\n",
    "    text = text.translate(str.maketrans(\"\", \"\", string.punctuation))  # Remove punctuation\n",
    "    text = text.strip()  # Remove extra spaces\n",
    "    return text\n",
    "\n",
    "df['Cleaned_Sentence'] = df['Sentence'].astype(str).apply(clean_text)\n",
    "\n",
    "#  Step 3: Convert Text to TF-IDF Features\n",
    "vectorizer = TfidfVectorizer(max_features=5000)  # Using 5000 most frequent words\n",
    "X = vectorizer.fit_transform(df['Cleaned_Sentence'])\n",
    "y = df['Sentiment']  # Assuming Sentiment is 0 (negative), 1 (positive)\n",
    "\n",
    "#  Step 4: Split Data\n",
    "X_train, X_test, y_train, y_test = train_test_split(X, y, test_size=0.2, random_state=42)\n",
    "\n",
    "#  Step 5: Train Model (Logistic Regression)\n",
    "model = LogisticRegression(max_iter=500)\n",
    "model.fit(X_train, y_train)\n",
    "\n",
    "#  Step 6: Evaluate Model\n",
    "y_pred = model.predict(X_test)\n",
    "accuracy = accuracy_score(y_test, y_pred)\n",
    "\n",
    "print(\"\\n Model Accuracy:\", accuracy)\n",
    "print(\"\\n Classification Report:\\n\", classification_report(y_test, y_pred))\n",
    "print(\"\\n Confusion Matrix:\\n\", confusion_matrix(y_test, y_pred))\n",
    "\n",
    "#  Step 7: Plot Confusion Matrix\n",
    "import seaborn as sns\n",
    "plt.figure(figsize=(5,5))\n",
    "sns.heatmap(confusion_matrix(y_test, y_pred), annot=True, fmt=\"d\", cmap=\"Blues\")\n",
    "plt.xlabel(\"Predicted\")\n",
    "plt.ylabel(\"Actual\")\n",
    "plt.title(\"Confusion Matrix\")\n",
    "plt.show()\n"
   ]
  },
  {
   "cell_type": "code",
   "execution_count": 4,
   "id": "6dd048ff-2a4d-45e6-a249-b5e0377f1353",
   "metadata": {},
   "outputs": [
    {
     "name": "stdout",
     "output_type": "stream",
     "text": [
      "\n",
      " SVM Model Accuracy: 0.5271022021976001\n",
      "\n",
      " Classification Report:\n",
      "               precision    recall  f1-score   support\n",
      "\n",
      "           0       0.52      0.43      0.47     10636\n",
      "           1       0.53      0.62      0.57     11115\n",
      "\n",
      "    accuracy                           0.53     21751\n",
      "   macro avg       0.53      0.52      0.52     21751\n",
      "weighted avg       0.53      0.53      0.52     21751\n",
      "\n"
     ]
    }
   ],
   "source": [
    "from sklearn.svm import SVC\n",
    "\n",
    "# Train SVM Model\n",
    "svm_model = SVC(kernel='linear')\n",
    "svm_model.fit(X_train, y_train)\n",
    "\n",
    "# Predict\n",
    "y_pred_svm = svm_model.predict(X_test)\n",
    "\n",
    "# Evaluate\n",
    "accuracy_svm = accuracy_score(y_test, y_pred_svm)\n",
    "print(\"\\n SVM Model Accuracy:\", accuracy_svm)\n",
    "print(\"\\n Classification Report:\\n\", classification_report(y_test, y_pred_svm))\n"
   ]
  },
  {
   "cell_type": "code",
   "execution_count": null,
   "id": "4b53bd8d-74d8-44e7-aa38-d8620368f653",
   "metadata": {},
   "outputs": [],
   "source": []
  }
 ],
 "metadata": {
  "kernelspec": {
   "display_name": "Python 3 (ipykernel)",
   "language": "python",
   "name": "python3"
  },
  "language_info": {
   "codemirror_mode": {
    "name": "ipython",
    "version": 3
   },
   "file_extension": ".py",
   "mimetype": "text/x-python",
   "name": "python",
   "nbconvert_exporter": "python",
   "pygments_lexer": "ipython3",
   "version": "3.12.4"
  }
 },
 "nbformat": 4,
 "nbformat_minor": 5
}
