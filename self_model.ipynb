{
 "cells": [
  {
   "cell_type": "code",
   "execution_count": 3,
   "id": "c725deea-39a5-4967-9975-f61bbeae764b",
   "metadata": {},
   "outputs": [
    {
     "name": "stdout",
     "output_type": "stream",
     "text": [
      "Collecting newsapi\n",
      "  Downloading newsapi-0.1.1-py2.py3-none-any.whl.metadata (255 bytes)\n",
      "Requirement already satisfied: requests in /opt/anaconda3/lib/python3.12/site-packages (from newsapi) (2.32.2)\n",
      "Requirement already satisfied: charset-normalizer<4,>=2 in /opt/anaconda3/lib/python3.12/site-packages (from requests->newsapi) (2.0.4)\n",
      "Requirement already satisfied: idna<4,>=2.5 in /opt/anaconda3/lib/python3.12/site-packages (from requests->newsapi) (3.7)\n",
      "Requirement already satisfied: urllib3<3,>=1.21.1 in /opt/anaconda3/lib/python3.12/site-packages (from requests->newsapi) (2.2.2)\n",
      "Requirement already satisfied: certifi>=2017.4.17 in /opt/anaconda3/lib/python3.12/site-packages (from requests->newsapi) (2024.7.4)\n",
      "Downloading newsapi-0.1.1-py2.py3-none-any.whl (4.1 kB)\n",
      "Installing collected packages: newsapi\n",
      "Successfully installed newsapi-0.1.1\n",
      "Note: you may need to restart the kernel to use updated packages.\n"
     ]
    }
   ],
   "source": [
    "pip install newsapi"
   ]
  },
  {
   "cell_type": "code",
   "execution_count": 7,
   "id": "99256940-191b-4614-b298-e5319936b88e",
   "metadata": {},
   "outputs": [
    {
     "name": "stdout",
     "output_type": "stream",
     "text": [
      "Collecting newsapi-python\n",
      "  Downloading newsapi_python-0.2.7-py2.py3-none-any.whl.metadata (1.2 kB)\n",
      "Requirement already satisfied: requests<3.0.0 in /opt/anaconda3/lib/python3.12/site-packages (from newsapi-python) (2.32.2)\n",
      "Requirement already satisfied: charset-normalizer<4,>=2 in /opt/anaconda3/lib/python3.12/site-packages (from requests<3.0.0->newsapi-python) (2.0.4)\n",
      "Requirement already satisfied: idna<4,>=2.5 in /opt/anaconda3/lib/python3.12/site-packages (from requests<3.0.0->newsapi-python) (3.7)\n",
      "Requirement already satisfied: urllib3<3,>=1.21.1 in /opt/anaconda3/lib/python3.12/site-packages (from requests<3.0.0->newsapi-python) (2.2.2)\n",
      "Requirement already satisfied: certifi>=2017.4.17 in /opt/anaconda3/lib/python3.12/site-packages (from requests<3.0.0->newsapi-python) (2024.7.4)\n",
      "Downloading newsapi_python-0.2.7-py2.py3-none-any.whl (7.9 kB)\n",
      "Installing collected packages: newsapi-python\n",
      "Successfully installed newsapi-python-0.2.7\n",
      "Note: you may need to restart the kernel to use updated packages.\n"
     ]
    }
   ],
   "source": [
    "pip install newsapi-python\n"
   ]
  },
  {
   "cell_type": "code",
   "execution_count": 1,
   "id": "be65c7f1-ee25-4a5e-93de-320572f7c86c",
   "metadata": {
    "scrolled": true
   },
   "outputs": [
    {
     "name": "stdout",
     "output_type": "stream",
     "text": [
      "Found existing installation: newsapi 0.1.1\n",
      "Uninstalling newsapi-0.1.1:\n",
      "  Successfully uninstalled newsapi-0.1.1\n",
      "Note: you may need to restart the kernel to use updated packages.\n"
     ]
    }
   ],
   "source": [
    "pip uninstall -y newsapi\n"
   ]
  },
  {
   "cell_type": "code",
   "execution_count": 3,
   "id": "a9fcb8d6-4f5d-439f-a16c-f22a52faa256",
   "metadata": {},
   "outputs": [
    {
     "name": "stdout",
     "output_type": "stream",
     "text": [
      "Requirement already satisfied: newsapi-python in /opt/anaconda3/lib/python3.12/site-packages (0.2.7)\n",
      "Requirement already satisfied: requests<3.0.0 in /opt/anaconda3/lib/python3.12/site-packages (from newsapi-python) (2.32.2)\n",
      "Requirement already satisfied: charset-normalizer<4,>=2 in /opt/anaconda3/lib/python3.12/site-packages (from requests<3.0.0->newsapi-python) (2.0.4)\n",
      "Requirement already satisfied: idna<4,>=2.5 in /opt/anaconda3/lib/python3.12/site-packages (from requests<3.0.0->newsapi-python) (3.7)\n",
      "Requirement already satisfied: urllib3<3,>=1.21.1 in /opt/anaconda3/lib/python3.12/site-packages (from requests<3.0.0->newsapi-python) (2.2.2)\n",
      "Requirement already satisfied: certifi>=2017.4.17 in /opt/anaconda3/lib/python3.12/site-packages (from requests<3.0.0->newsapi-python) (2024.7.4)\n",
      "Note: you may need to restart the kernel to use updated packages.\n"
     ]
    }
   ],
   "source": [
    "pip install newsapi-python\n"
   ]
  },
  {
   "cell_type": "code",
   "execution_count": 5,
   "id": "3ef5a39c-207d-49ea-914c-f8bfc3d40825",
   "metadata": {},
   "outputs": [
    {
     "name": "stdout",
     "output_type": "stream",
     "text": [
      "Name: newsapi-python\n",
      "Version: 0.2.7\n",
      "Summary: An unofficial Python client for the News API\n",
      "Home-page: https://github.com/mattlisiv/newsapi-python\n",
      "Author: Matt Lisivick\n",
      "Author-email: lisivickmatt@gmail.com\n",
      "License: MIT\n",
      "Location: /opt/anaconda3/lib/python3.12/site-packages\n",
      "Requires: requests\n",
      "Required-by: \n",
      "Note: you may need to restart the kernel to use updated packages.\n"
     ]
    }
   ],
   "source": [
    "pip show newsapi-python\n"
   ]
  },
  {
   "cell_type": "code",
   "execution_count": 15,
   "id": "6afc6c9b-fc2a-4974-8f84-aa6518582ddc",
   "metadata": {},
   "outputs": [
    {
     "name": "stdout",
     "output_type": "stream",
     "text": [
      "Name: newsapi-python\n",
      "Version: 0.2.7\n",
      "Summary: An unofficial Python client for the News API\n",
      "Home-page: https://github.com/mattlisiv/newsapi-python\n",
      "Author: Matt Lisivick\n",
      "Author-email: lisivickmatt@gmail.com\n",
      "License: MIT\n",
      "Location: /opt/anaconda3/lib/python3.12/site-packages\n",
      "Requires: requests\n",
      "Required-by: \n"
     ]
    }
   ],
   "source": [
    "!pip show newsapi-python\n"
   ]
  },
  {
   "cell_type": "code",
   "execution_count": 11,
   "id": "ea07dde2-8397-4421-951f-90bc9046611d",
   "metadata": {},
   "outputs": [
    {
     "name": "stdout",
     "output_type": "stream",
     "text": [
      "Requirement already satisfied: newsapi-python in /opt/anaconda3/lib/python3.12/site-packages (0.2.7)\n",
      "Requirement already satisfied: requests<3.0.0 in /opt/anaconda3/lib/python3.12/site-packages (from newsapi-python) (2.32.2)\n",
      "Requirement already satisfied: charset-normalizer<4,>=2 in /opt/anaconda3/lib/python3.12/site-packages (from requests<3.0.0->newsapi-python) (2.0.4)\n",
      "Requirement already satisfied: idna<4,>=2.5 in /opt/anaconda3/lib/python3.12/site-packages (from requests<3.0.0->newsapi-python) (3.7)\n",
      "Requirement already satisfied: urllib3<3,>=1.21.1 in /opt/anaconda3/lib/python3.12/site-packages (from requests<3.0.0->newsapi-python) (2.2.2)\n",
      "Requirement already satisfied: certifi>=2017.4.17 in /opt/anaconda3/lib/python3.12/site-packages (from requests<3.0.0->newsapi-python) (2024.7.4)\n"
     ]
    }
   ],
   "source": [
    "!pip install newsapi-python\n"
   ]
  },
  {
   "cell_type": "code",
   "execution_count": null,
   "id": "dab7d2c5-5e1f-436c-864f-e33ee8083117",
   "metadata": {},
   "outputs": [
    {
     "name": "stdout",
     "output_type": "stream",
     "text": [
      "Fetching new news data...\n",
      "Model retrained and updated successfully!\n",
      "Waiting for the next iteration... (3600 seconds)\n"
     ]
    }
   ],
   "source": [
    "import time\n",
    "import pickle\n",
    "import pandas as pd\n",
    "from sklearn.feature_extraction.text import TfidfVectorizer\n",
    "from sklearn.linear_model import LogisticRegression\n",
    "from sklearn.model_selection import train_test_split\n",
    "from newsapi import NewsApiClient\n",
    "import re\n",
    "\n",
    "API_KEY = 'bcae1bfec35f4e78a3cdc7accdbffd86'\n",
    "\n",
    "# Initialize NewsAPI client\n",
    "newsapi = NewsApiClient(api_key=API_KEY)\n",
    "\n",
    "# Load existing model and vectorizer\n",
    "with open(\"sentiment_model.pkl\", \"rb\") as model_file:\n",
    "    model = pickle.load(model_file)\n",
    "with open(\"vectorizer.pkl\", \"rb\") as vec_file:\n",
    "    vectorizer = pickle.load(vec_file)\n",
    "\n",
    "def fetch_real_time_news():\n",
    "    \"\"\"Fetch latest news using NewsAPI.\"\"\"\n",
    "    articles = newsapi.get_everything(q='stock market', language='en', sort_by='publishedAt')\n",
    "    news_data = []\n",
    "    for article in articles['articles']:\n",
    "        news_data.append({\n",
    "            'publishedAt': article['publishedAt'],\n",
    "            'title': article['title'],\n",
    "            'description': article['description'],\n",
    "            'content': article['content']\n",
    "        })\n",
    "    return pd.DataFrame(news_data)\n",
    "\n",
    "def preprocess_text(df):\n",
    "    \"\"\"Clean and preprocess text data.\"\"\"\n",
    "    def clean_text(text):\n",
    "        text = re.sub(r'http\\S+', '', text)  # Remove URLs\n",
    "        text = re.sub(r'[^\\w\\s]', '', text)  # Remove special characters\n",
    "        text = re.sub(r'\\s+', ' ', text).strip()  # Remove extra whitespaces\n",
    "        return text\n",
    "\n",
    "    df['text'] = df[['title', 'description', 'content']].fillna('').agg(' '.join, axis=1)\n",
    "    df['clean_text'] = df['text'].apply(clean_text)\n",
    "    return df[['publishedAt', 'clean_text']]\n",
    "\n",
    "def retrain_model(new_data):\n",
    "    \"\"\"Retrain the model with new data.\"\"\"\n",
    "    global model, vectorizer\n",
    "\n",
    "    # Load existing labeled data\n",
    "    labeled_data = pd.read_csv(\"labeled_news_data.csv\")\n",
    "    labeled_data = pd.concat([labeled_data, new_data], ignore_index=True)\n",
    "\n",
    "    # Split data into training and testing sets\n",
    "    X = labeled_data['clean_text']\n",
    "    y = labeled_data['sentiment']\n",
    "    X_train, X_test, y_train, y_test = train_test_split(X, y, test_size=0.2, random_state=42)\n",
    "\n",
    "    # Retrain the model\n",
    "    X_train_vec = vectorizer.fit_transform(X_train)\n",
    "    X_test_vec = vectorizer.transform(X_test)\n",
    "    model.fit(X_train_vec, y_train)\n",
    "\n",
    "    # Save the updated model and vectorizer\n",
    "    with open(\"sentiment_model.pkl\", \"wb\") as model_file:\n",
    "        pickle.dump(model, model_file)\n",
    "    with open(\"vectorizer.pkl\", \"wb\") as vec_file:\n",
    "        pickle.dump(vectorizer, vec_file)\n",
    "\n",
    "    print(\"Model retrained and updated successfully!\")\n",
    "\n",
    "def automate_training(interval=3600):\n",
    "    \"\"\"Automate the entire training pipeline.\"\"\"\n",
    "    while True:\n",
    "        print(\"Fetching new news data...\")\n",
    "        real_time_data = fetch_real_time_news()\n",
    "        if not real_time_data.empty:\n",
    "            real_time_data = preprocess_text(real_time_data)\n",
    "            real_time_data['sentiment'] = model.predict(vectorizer.transform(real_time_data['clean_text']))\n",
    "\n",
    "            # Append labeled data to the dataset\n",
    "            real_time_data.to_csv(\"labeled_news_data.csv\", mode='a', header=False, index=False)\n",
    "\n",
    "            # Retrain the model with the new data\n",
    "            retrain_model(real_time_data)\n",
    "\n",
    "        print(f\"Waiting for the next iteration... ({interval} seconds)\")\n",
    "        time.sleep(interval)\n",
    "\n",
    "# Start the automation\n",
    "automate_training(interval=3600)  # Runs every hour\n"
   ]
  },
  {
   "cell_type": "code",
   "execution_count": 1,
   "id": "f9aadbca-f6b8-4de5-94b8-24fa443ff086",
   "metadata": {},
   "outputs": [],
   "source": []
  },
  {
   "cell_type": "code",
   "execution_count": null,
   "id": "a3a6a742-c268-4547-9299-a5f01dfbc16f",
   "metadata": {},
   "outputs": [],
   "source": []
  },
  {
   "cell_type": "code",
   "execution_count": null,
   "id": "851ff90a-2e37-439f-9b85-a417e73554e2",
   "metadata": {},
   "outputs": [],
   "source": []
  }
 ],
 "metadata": {
  "kernelspec": {
   "display_name": "Python 3 (ipykernel)",
   "language": "python",
   "name": "python3"
  },
  "language_info": {
   "codemirror_mode": {
    "name": "ipython",
    "version": 3
   },
   "file_extension": ".py",
   "mimetype": "text/x-python",
   "name": "python",
   "nbconvert_exporter": "python",
   "pygments_lexer": "ipython3",
   "version": "3.12.4"
  }
 },
 "nbformat": 4,
 "nbformat_minor": 5
}
