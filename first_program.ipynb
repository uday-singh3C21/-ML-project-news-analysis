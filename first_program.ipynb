{
 "cells": [
  {
   "cell_type": "code",
   "execution_count": 4,
   "id": "5e3d8090-4af2-4b3c-a29c-9e6e43caf8f0",
   "metadata": {},
   "outputs": [],
   "source": [
    "import pandas as pd\n",
    "import numpy as np\n",
    "from sklearn.model_selection import train_test_split\n",
    "from sklearn.feature_extraction.text import TfidfVectorizer\n",
    "from sklearn.ensemble import RandomForestClassifier\n",
    "from sklearn.metrics import classification_report, accuracy_score\n",
    "from nltk.corpus import stopwords\n",
    "from nltk.tokenize import word_tokenize\n",
    "import re\n",
    "import nltk\n",
    "\n"
   ]
  },
  {
   "cell_type": "code",
   "execution_count": 6,
   "id": "13b247ca-0310-44fa-96dd-01389bbb48bc",
   "metadata": {},
   "outputs": [
    {
     "name": "stdout",
     "output_type": "stream",
     "text": [
      "                                 Open        High         Low       Close  \\\n",
      "Date                                                                        \n",
      "2024-01-18 00:00:00-05:00  185.182778  188.217912  184.924051  187.710403   \n",
      "2024-01-19 00:00:00-05:00  188.407005  191.014227  187.899497  190.626129   \n",
      "2024-01-22 00:00:00-05:00  191.362503  194.377730  191.322690  192.944748   \n",
      "2024-01-23 00:00:00-05:00  194.069246  194.795683  192.885045  194.228455   \n",
      "2024-01-24 00:00:00-05:00  194.467286  195.422613  193.392549  193.551773   \n",
      "\n",
      "                             Volume  Dividends  Stock Splits  \n",
      "Date                                                          \n",
      "2024-01-18 00:00:00-05:00  78005800        0.0           0.0  \n",
      "2024-01-19 00:00:00-05:00  68741000        0.0           0.0  \n",
      "2024-01-22 00:00:00-05:00  60133900        0.0           0.0  \n",
      "2024-01-23 00:00:00-05:00  42355600        0.0           0.0  \n",
      "2024-01-24 00:00:00-05:00  53631300        0.0           0.0  \n"
     ]
    }
   ],
   "source": [
    "import yfinance as yf\n",
    "\n",
    "# Example: Get historical data for a stock\n",
    "stock = yf.Ticker(\"AAPL\")\n",
    "historical_data = stock.history(period=\"1y\")  # 1 year of data\n",
    "print(historical_data.head())\n"
   ]
  },
  {
   "cell_type": "code",
   "execution_count": 10,
   "id": "eb03c7c7-1e75-480f-a690-f4d826702a72",
   "metadata": {},
   "outputs": [
    {
     "name": "stdout",
     "output_type": "stream",
     "text": [
      "Collecting alpha_vantage\n",
      "  Downloading alpha_vantage-3.0.0-py3-none-any.whl.metadata (12 kB)\n",
      "Requirement already satisfied: aiohttp in /opt/anaconda3/lib/python3.12/site-packages (from alpha_vantage) (3.9.5)\n",
      "Requirement already satisfied: requests in /opt/anaconda3/lib/python3.12/site-packages (from alpha_vantage) (2.32.2)\n",
      "Requirement already satisfied: aiosignal>=1.1.2 in /opt/anaconda3/lib/python3.12/site-packages (from aiohttp->alpha_vantage) (1.2.0)\n",
      "Requirement already satisfied: attrs>=17.3.0 in /opt/anaconda3/lib/python3.12/site-packages (from aiohttp->alpha_vantage) (23.1.0)\n",
      "Requirement already satisfied: frozenlist>=1.1.1 in /opt/anaconda3/lib/python3.12/site-packages (from aiohttp->alpha_vantage) (1.4.0)\n",
      "Requirement already satisfied: multidict<7.0,>=4.5 in /opt/anaconda3/lib/python3.12/site-packages (from aiohttp->alpha_vantage) (6.0.4)\n",
      "Requirement already satisfied: yarl<2.0,>=1.0 in /opt/anaconda3/lib/python3.12/site-packages (from aiohttp->alpha_vantage) (1.9.3)\n",
      "Requirement already satisfied: charset-normalizer<4,>=2 in /opt/anaconda3/lib/python3.12/site-packages (from requests->alpha_vantage) (2.0.4)\n",
      "Requirement already satisfied: idna<4,>=2.5 in /opt/anaconda3/lib/python3.12/site-packages (from requests->alpha_vantage) (3.7)\n",
      "Requirement already satisfied: urllib3<3,>=1.21.1 in /opt/anaconda3/lib/python3.12/site-packages (from requests->alpha_vantage) (2.2.2)\n",
      "Requirement already satisfied: certifi>=2017.4.17 in /opt/anaconda3/lib/python3.12/site-packages (from requests->alpha_vantage) (2024.7.4)\n",
      "Downloading alpha_vantage-3.0.0-py3-none-any.whl (35 kB)\n",
      "Installing collected packages: alpha_vantage\n",
      "Successfully installed alpha_vantage-3.0.0\n",
      "Note: you may need to restart the kernel to use updated packages.\n"
     ]
    }
   ],
   "source": [
    "pip install alpha_vantage"
   ]
  },
  {
   "cell_type": "code",
   "execution_count": 14,
   "id": "c27000ed-d3fc-4b02-bd4b-53baad04a0b3",
   "metadata": {},
   "outputs": [
    {
     "name": "stdout",
     "output_type": "stream",
     "text": [
      "            1. open  2. high   3. low  4. close   5. volume\n",
      "date                                                       \n",
      "2025-01-17  232.115   232.29  228.480    229.98  68488301.0\n",
      "2025-01-16  237.350   238.01  228.030    228.26  71759052.0\n",
      "2025-01-15  234.635   238.96  234.430    237.87  39831969.0\n",
      "2025-01-14  234.750   236.12  232.472    233.28  39435294.0\n",
      "2025-01-13  233.530   234.67  229.720    234.40  49630725.0\n"
     ]
    }
   ],
   "source": [
    "from alpha_vantage.timeseries import TimeSeries\n",
    "\n",
    "ts = TimeSeries(key='YOUR_API_KEY', output_format='pandas')\n",
    "data, meta_data = ts.get_daily(symbol='AAPL', outputsize='full')\n",
    "print(data.head())\n"
   ]
  },
  {
   "cell_type": "code",
   "execution_count": 16,
   "id": "9c41e3ab-8581-4c2f-a4fa-fdef7a8f5894",
   "metadata": {},
   "outputs": [],
   "source": [
    "def calculate_market_reaction(stock_data, news_timestamp):\n",
    "    # Filter stock data for a reaction window (e.g., 1 day after news)\n",
    "    reaction_window = stock_data.loc[news_timestamp:news_timestamp + pd.Timedelta(days=1)]\n",
    "    if reaction_window.empty:\n",
    "        return None\n",
    "    # Calculate price change percentage\n",
    "    price_change = (reaction_window['Close'].iloc[-1] - reaction_window['Open'].iloc[0]) / reaction_window['Open'].iloc[0]\n",
    "    return price_change\n"
   ]
  },
  {
   "cell_type": "code",
   "execution_count": null,
   "id": "731b7525-07a7-4e69-88f6-943f38fc44d8",
   "metadata": {},
   "outputs": [],
   "source": []
  }
 ],
 "metadata": {
  "kernelspec": {
   "display_name": "Python 3 (ipykernel)",
   "language": "python",
   "name": "python3"
  },
  "language_info": {
   "codemirror_mode": {
    "name": "ipython",
    "version": 3
   },
   "file_extension": ".py",
   "mimetype": "text/x-python",
   "name": "python",
   "nbconvert_exporter": "python",
   "pygments_lexer": "ipython3",
   "version": "3.12.4"
  }
 },
 "nbformat": 4,
 "nbformat_minor": 5
}
